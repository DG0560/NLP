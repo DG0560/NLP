{
  "nbformat": 4,
  "nbformat_minor": 0,
  "metadata": {
    "colab": {
      "provenance": []
    },
    "kernelspec": {
      "name": "python3",
      "display_name": "Python 3"
    },
    "language_info": {
      "name": "python"
    }
  },
  "cells": [
    {
      "cell_type": "code",
      "source": [
        "import nltk"
      ],
      "metadata": {
        "id": "HJODI_Eb5kCv"
      },
      "execution_count": null,
      "outputs": []
    },
    {
      "cell_type": "code",
      "execution_count": null,
      "metadata": {
        "id": "a7YccY784gpd"
      },
      "outputs": [],
      "source": [
        "from nltk.tokenize import word_tokenize\n",
        "from nltk.wsd import lesk"
      ]
    },
    {
      "cell_type": "code",
      "source": [
        " nltk.download('punkt_tab')\n",
        " nltk.download('wordnet')"
      ],
      "metadata": {
        "colab": {
          "base_uri": "https://localhost:8080/"
        },
        "id": "Q8BIwkia5fq3",
        "outputId": "2e3d4af7-0535-4270-a047-b259edf4ed80"
      },
      "execution_count": null,
      "outputs": [
        {
          "output_type": "stream",
          "name": "stderr",
          "text": [
            "[nltk_data] Downloading package punkt_tab to /root/nltk_data...\n",
            "[nltk_data]   Package punkt_tab is already up-to-date!\n",
            "[nltk_data] Downloading package wordnet to /root/nltk_data...\n"
          ]
        },
        {
          "output_type": "execute_result",
          "data": {
            "text/plain": [
              "True"
            ]
          },
          "metadata": {},
          "execution_count": 9
        }
      ]
    },
    {
      "cell_type": "markdown",
      "source": [
        "#Define the sentence with word ambiguity"
      ],
      "metadata": {
        "id": "yCdZ7XoH5TfH"
      }
    },
    {
      "cell_type": "code",
      "source": [
        "a1=lesk(word_tokenize('We have to jam the signal around us.'),'jam')"
      ],
      "metadata": {
        "id": "Re-1wAWI5F-p"
      },
      "execution_count": null,
      "outputs": []
    },
    {
      "cell_type": "code",
      "source": [
        "a1.definition()"
      ],
      "metadata": {
        "colab": {
          "base_uri": "https://localhost:8080/",
          "height": 36
        },
        "id": "Ceib--ky5bfW",
        "outputId": "65ad7755-fd4e-4493-a29b-b3dfc04461db"
      },
      "execution_count": null,
      "outputs": [
        {
          "output_type": "execute_result",
          "data": {
            "text/plain": [
              "'deliberate radiation or reflection of electromagnetic energy for the purpose of disrupting enemy use of electronic devices or systems'"
            ],
            "application/vnd.google.colaboratory.intrinsic+json": {
              "type": "string"
            }
          },
          "metadata": {},
          "execution_count": 12
        }
      ]
    },
    {
      "cell_type": "code",
      "source": [
        "a2=lesk(word_tokenize('I am stuck in a heavy traffic jam.'),'jam')"
      ],
      "metadata": {
        "id": "wzbUwLhU5wxm"
      },
      "execution_count": null,
      "outputs": []
    },
    {
      "cell_type": "code",
      "source": [
        "a2.definition()"
      ],
      "metadata": {
        "colab": {
          "base_uri": "https://localhost:8080/",
          "height": 36
        },
        "id": "7pCRKGsK58IW",
        "outputId": "4b9432e3-4c42-4529-9019-778fff4cfa74"
      },
      "execution_count": null,
      "outputs": [
        {
          "output_type": "execute_result",
          "data": {
            "text/plain": [
              "'get stuck and immobilized'"
            ],
            "application/vnd.google.colaboratory.intrinsic+json": {
              "type": "string"
            }
          },
          "metadata": {},
          "execution_count": 14
        }
      ]
    },
    {
      "cell_type": "code",
      "source": [
        "a2.examples()"
      ],
      "metadata": {
        "colab": {
          "base_uri": "https://localhost:8080/"
        },
        "id": "Ip5XbMTk6AYl",
        "outputId": "2fc2b5c0-4d1a-4a8e-b095-63beb9b0cf05"
      },
      "execution_count": null,
      "outputs": [
        {
          "output_type": "execute_result",
          "data": {
            "text/plain": [
              "['the mechanism jammed']"
            ]
          },
          "metadata": {},
          "execution_count": 15
        }
      ]
    },
    {
      "cell_type": "code",
      "source": [
        "a1.hyponyms()"
      ],
      "metadata": {
        "colab": {
          "base_uri": "https://localhost:8080/"
        },
        "id": "vMob9NKL6EIW",
        "outputId": "9034b994-6997-4558-e13f-2d1377844c42"
      },
      "execution_count": null,
      "outputs": [
        {
          "output_type": "execute_result",
          "data": {
            "text/plain": [
              "[Synset('spot_jamming.n.01'), Synset('barrage_jamming.n.01')]"
            ]
          },
          "metadata": {},
          "execution_count": 17
        }
      ]
    },
    {
      "cell_type": "code",
      "source": [
        "a2.hyponyms()"
      ],
      "metadata": {
        "colab": {
          "base_uri": "https://localhost:8080/"
        },
        "id": "NIOmGfG46IPW",
        "outputId": "ed3bf2a5-7f0c-4d1c-e756-f824d3d8be8a"
      },
      "execution_count": null,
      "outputs": [
        {
          "output_type": "execute_result",
          "data": {
            "text/plain": [
              "[]"
            ]
          },
          "metadata": {},
          "execution_count": 18
        }
      ]
    },
    {
      "cell_type": "code",
      "source": [
        "from nltk.corpus import wordnet\n",
        "x=wordnet.synsets('jam')"
      ],
      "metadata": {
        "id": "TiyLQ35Y6Mwl"
      },
      "execution_count": null,
      "outputs": []
    },
    {
      "cell_type": "code",
      "source": [
        "x"
      ],
      "metadata": {
        "colab": {
          "base_uri": "https://localhost:8080/"
        },
        "id": "v9LFCtwG6hvm",
        "outputId": "7725dffd-89ca-41b7-9f77-965c48de44be"
      },
      "execution_count": null,
      "outputs": [
        {
          "output_type": "execute_result",
          "data": {
            "text/plain": [
              "[Synset('jam.n.01'),\n",
              " Synset('fix.n.01'),\n",
              " Synset('crush.n.02'),\n",
              " Synset('jamming.n.01'),\n",
              " Synset('throng.v.01'),\n",
              " Synset('jam.v.02'),\n",
              " Synset('jam.v.03'),\n",
              " Synset('jam.v.04'),\n",
              " Synset('jam.v.05'),\n",
              " Synset('jam.v.06'),\n",
              " Synset('obstruct.v.02')]"
            ]
          },
          "metadata": {},
          "execution_count": 20
        }
      ]
    },
    {
      "cell_type": "code",
      "source": [
        "a3=lesk(word_tokenize('It was a good catch by the player.'),'catch')\n",
        "a3.definition()"
      ],
      "metadata": {
        "colab": {
          "base_uri": "https://localhost:8080/",
          "height": 36
        },
        "id": "shBVisk66iKF",
        "outputId": "da4d15ea-142e-4f5f-82fd-d7ff315e783a"
      },
      "execution_count": null,
      "outputs": [
        {
          "output_type": "execute_result",
          "data": {
            "text/plain": [
              "'discover or come upon accidentally, suddenly, or unexpectedly; catch somebody doing something or in a certain state'"
            ],
            "application/vnd.google.colaboratory.intrinsic+json": {
              "type": "string"
            }
          },
          "metadata": {},
          "execution_count": 21
        }
      ]
    },
    {
      "cell_type": "code",
      "source": [
        "a4=lesk(word_tokenize('You should catch that opportunity.'),'catch')\n",
        "a4.definition()"
      ],
      "metadata": {
        "colab": {
          "base_uri": "https://localhost:8080/",
          "height": 36
        },
        "id": "vLeFlTlQ7Qk2",
        "outputId": "67930fa3-6ff4-40ca-984d-189479465ffb"
      },
      "execution_count": null,
      "outputs": [
        {
          "output_type": "execute_result",
          "data": {
            "text/plain": [
              "'catch up with and possibly overtake'"
            ],
            "application/vnd.google.colaboratory.intrinsic+json": {
              "type": "string"
            }
          },
          "metadata": {},
          "execution_count": 22
        }
      ]
    },
    {
      "cell_type": "code",
      "source": [
        "d1=lesk(word_tokenize('He like flowers.'),'like')\n",
        "d1.definition()"
      ],
      "metadata": {
        "colab": {
          "base_uri": "https://localhost:8080/",
          "height": 36
        },
        "id": "SglI3chj7by1",
        "outputId": "691e7305-cf26-486c-a122-8c1e4210a402"
      },
      "execution_count": null,
      "outputs": [
        {
          "output_type": "execute_result",
          "data": {
            "text/plain": [
              "'prefer or wish to do something'"
            ],
            "application/vnd.google.colaboratory.intrinsic+json": {
              "type": "string"
            }
          },
          "metadata": {},
          "execution_count": 23
        }
      ]
    },
    {
      "cell_type": "code",
      "source": [],
      "metadata": {
        "id": "lIOCGagC9FL-"
      },
      "execution_count": null,
      "outputs": []
    }
  ]
}