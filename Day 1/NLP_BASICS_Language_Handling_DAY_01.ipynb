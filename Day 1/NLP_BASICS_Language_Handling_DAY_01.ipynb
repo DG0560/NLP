{
  "nbformat": 4,
  "nbformat_minor": 0,
  "metadata": {
    "colab": {
      "provenance": [],
      "toc_visible": true
    },
    "kernelspec": {
      "name": "python3",
      "display_name": "Python 3"
    },
    "language_info": {
      "name": "python"
    }
  },
  "cells": [
    {
      "cell_type": "code",
      "execution_count": null,
      "metadata": {
        "colab": {
          "base_uri": "https://localhost:8080/"
        },
        "id": "e23WgakH96B8",
        "outputId": "3741fc46-494e-4e6b-b2c1-c4748d3e243a"
      },
      "outputs": [
        {
          "output_type": "stream",
          "name": "stdout",
          "text": [
            "25\n",
            "26\n",
            "31\n",
            "Average age: 27.333333333333332\n"
          ]
        }
      ],
      "source": [
        "sent= 'They told that their ages are 25 26 and 31 respectively'\n",
        "#Find the average of age in this sentence\n",
        "\n",
        "sp = sent.split(' ')\n",
        "s = 0\n",
        "count = 0\n",
        "\n",
        "for i in sp:\n",
        "    if i.isdigit():\n",
        "        age = int(i)\n",
        "        s += age\n",
        "        count += 1\n",
        "        print(age)\n",
        "if count > 0:\n",
        "    avg = s / count\n",
        "    print(\"Average age:\", avg)\n",
        "else:\n",
        "    print(\"No ages found in the sentence.\")\n"
      ]
    },
    {
      "cell_type": "code",
      "source": [
        "names= ['अजय', 'विजय', 'कल्याण', 'सत्य','ब्रह्म', 'प्रित्वि' ]\n",
        "names"
      ],
      "metadata": {
        "id": "1qjR_Iqk-f2U",
        "colab": {
          "base_uri": "https://localhost:8080/"
        },
        "outputId": "f4b00791-62a0-40b3-c4cb-a4bcc01fb6ab"
      },
      "execution_count": null,
      "outputs": [
        {
          "output_type": "execute_result",
          "data": {
            "text/plain": [
              "['अजय', 'विजय', 'कल्याण', 'सत्य', 'ब्रह्म', 'प्रित्वि']"
            ]
          },
          "metadata": {},
          "execution_count": 11
        }
      ]
    },
    {
      "cell_type": "code",
      "source": [
        "for x in names:\n",
        "    if x.startswith('अ'):\n",
        "      print(x)"
      ],
      "metadata": {
        "colab": {
          "base_uri": "https://localhost:8080/"
        },
        "id": "4sJSzpItEHMa",
        "outputId": "14cdddb6-ba6e-4ddc-f586-cdb32a46a2cc"
      },
      "execution_count": null,
      "outputs": [
        {
          "output_type": "stream",
          "name": "stdout",
          "text": [
            "अजय\n"
          ]
        }
      ]
    },
    {
      "cell_type": "code",
      "source": [
        "for x in names:\n",
        "    if x.endswith('य'):\n",
        "      print(x)"
      ],
      "metadata": {
        "colab": {
          "base_uri": "https://localhost:8080/"
        },
        "id": "r0jsRpyhEV7o",
        "outputId": "d8534f9d-773d-4ec4-8e3d-08435b2bfd62"
      },
      "execution_count": null,
      "outputs": [
        {
          "output_type": "stream",
          "name": "stdout",
          "text": [
            "अजय\n",
            "विजय\n",
            "सत्य\n"
          ]
        }
      ]
    },
    {
      "cell_type": "code",
      "source": [
        "\" \".join(names)"
      ],
      "metadata": {
        "colab": {
          "base_uri": "https://localhost:8080/",
          "height": 36
        },
        "id": "2n1ZBsPOEgkI",
        "outputId": "ec3e2a4c-3cf6-448f-80cc-b80fbb4f2a5c"
      },
      "execution_count": null,
      "outputs": [
        {
          "output_type": "execute_result",
          "data": {
            "text/plain": [
              "'अजय विजय कल्याण सत्य ब्रह्म प्रित्वि'"
            ],
            "application/vnd.google.colaboratory.intrinsic+json": {
              "type": "string"
            }
          },
          "metadata": {},
          "execution_count": 14
        }
      ]
    },
    {
      "cell_type": "code",
      "source": [
        "'कल्याण'.replace('क' ,'त्वि' )\n"
      ],
      "metadata": {
        "colab": {
          "base_uri": "https://localhost:8080/",
          "height": 36
        },
        "id": "wYhJPj_nEk-o",
        "outputId": "cd2e2368-9066-408b-8585-58a962d3705b"
      },
      "execution_count": null,
      "outputs": [
        {
          "output_type": "execute_result",
          "data": {
            "text/plain": [
              "'त्विल्याण'"
            ],
            "application/vnd.google.colaboratory.intrinsic+json": {
              "type": "string"
            }
          },
          "metadata": {},
          "execution_count": 15
        }
      ]
    },
    {
      "cell_type": "code",
      "source": [
        "' '.join(names).count('ज')"
      ],
      "metadata": {
        "colab": {
          "base_uri": "https://localhost:8080/"
        },
        "id": "DfatZqZWE134",
        "outputId": "74c3712e-4d97-45f4-99db-a2d4ef60e6e4"
      },
      "execution_count": null,
      "outputs": [
        {
          "output_type": "execute_result",
          "data": {
            "text/plain": [
              "2"
            ]
          },
          "metadata": {},
          "execution_count": 16
        }
      ]
    },
    {
      "cell_type": "code",
      "source": [
        "f = open('names.txt', 'w')\n",
        "for i in range(100):\n",
        "  f.write('कल्याण\\n')\n",
        "\n",
        "f.close()"
      ],
      "metadata": {
        "id": "wgEdgvaoFChY"
      },
      "execution_count": null,
      "outputs": []
    },
    {
      "cell_type": "code",
      "source": [
        "ord('r')"
      ],
      "metadata": {
        "colab": {
          "base_uri": "https://localhost:8080/"
        },
        "id": "J0LIjt6fFxLI",
        "outputId": "45e50261-575d-4457-b3b9-c62d4a188c60"
      },
      "execution_count": null,
      "outputs": [
        {
          "output_type": "execute_result",
          "data": {
            "text/plain": [
              "114"
            ]
          },
          "metadata": {},
          "execution_count": 23
        }
      ]
    },
    {
      "cell_type": "code",
      "source": [
        "ord('6')"
      ],
      "metadata": {
        "colab": {
          "base_uri": "https://localhost:8080/"
        },
        "id": "X6UsA-VXHBjp",
        "outputId": "3606aa57-597f-4230-921f-35d4408387c0"
      },
      "execution_count": null,
      "outputs": [
        {
          "output_type": "execute_result",
          "data": {
            "text/plain": [
              "54"
            ]
          },
          "metadata": {},
          "execution_count": 25
        }
      ]
    },
    {
      "cell_type": "code",
      "source": [
        "chr(67)"
      ],
      "metadata": {
        "colab": {
          "base_uri": "https://localhost:8080/",
          "height": 36
        },
        "id": "KpY0jTwFHDi3",
        "outputId": "7456fe7a-e125-4be9-d80d-6ef244a37a9e"
      },
      "execution_count": null,
      "outputs": [
        {
          "output_type": "execute_result",
          "data": {
            "text/plain": [
              "'C'"
            ],
            "application/vnd.google.colaboratory.intrinsic+json": {
              "type": "string"
            }
          },
          "metadata": {},
          "execution_count": 26
        }
      ]
    },
    {
      "cell_type": "code",
      "source": [
        "ord('य')"
      ],
      "metadata": {
        "colab": {
          "base_uri": "https://localhost:8080/"
        },
        "id": "UPwP0x8ZHKoX",
        "outputId": "8f57a67b-0eca-4299-c749-3f36253457bc"
      },
      "execution_count": null,
      "outputs": [
        {
          "output_type": "execute_result",
          "data": {
            "text/plain": [
              "2351"
            ]
          },
          "metadata": {},
          "execution_count": 27
        }
      ]
    },
    {
      "cell_type": "code",
      "source": [
        "x = '\\u0939\\u092A'\n",
        "x"
      ],
      "metadata": {
        "colab": {
          "base_uri": "https://localhost:8080/",
          "height": 36
        },
        "id": "kJXyc1R5HQaI",
        "outputId": "6dd87c6e-778f-4c53-bc9c-3072c85ee7db"
      },
      "execution_count": null,
      "outputs": [
        {
          "output_type": "execute_result",
          "data": {
            "text/plain": [
              "'हप'"
            ],
            "application/vnd.google.colaboratory.intrinsic+json": {
              "type": "string"
            }
          },
          "metadata": {},
          "execution_count": 28
        }
      ]
    },
    {
      "cell_type": "code",
      "source": [
        "emoji = '\\U0001F600'\n",
        "emoji"
      ],
      "metadata": {
        "colab": {
          "base_uri": "https://localhost:8080/",
          "height": 36
        },
        "id": "CwxV80AKHfuI",
        "outputId": "131af369-c639-4a7f-cff1-a262e21defe9"
      },
      "execution_count": null,
      "outputs": [
        {
          "output_type": "execute_result",
          "data": {
            "text/plain": [
              "'😀'"
            ],
            "application/vnd.google.colaboratory.intrinsic+json": {
              "type": "string"
            }
          },
          "metadata": {},
          "execution_count": 29
        }
      ]
    },
    {
      "cell_type": "code",
      "source": [
        "ord(emoji)"
      ],
      "metadata": {
        "colab": {
          "base_uri": "https://localhost:8080/"
        },
        "id": "9LJ0rMVtIT5X",
        "outputId": "e195d25b-7706-4c34-da8d-6cad02820979"
      },
      "execution_count": null,
      "outputs": [
        {
          "output_type": "execute_result",
          "data": {
            "text/plain": [
              "128512"
            ]
          },
          "metadata": {},
          "execution_count": 30
        }
      ]
    },
    {
      "cell_type": "code",
      "source": [],
      "metadata": {
        "id": "ts7Jxg0AItqo"
      },
      "execution_count": null,
      "outputs": []
    }
  ]
}