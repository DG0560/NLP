{
  "nbformat": 4,
  "nbformat_minor": 0,
  "metadata": {
    "colab": {
      "provenance": []
    },
    "kernelspec": {
      "name": "python3",
      "display_name": "Python 3"
    },
    "language_info": {
      "name": "python"
    }
  },
  "cells": [
    {
      "cell_type": "code",
      "execution_count": null,
      "metadata": {
        "colab": {
          "base_uri": "https://localhost:8080/"
        },
        "id": "31-yJekNxGfc",
        "outputId": "d19a4650-080f-4a16-a478-ce8b4be810f2"
      },
      "outputs": [
        {
          "output_type": "stream",
          "name": "stderr",
          "text": [
            "[nltk_data] Downloading package wordnet to /root/nltk_data...\n"
          ]
        },
        {
          "output_type": "execute_result",
          "data": {
            "text/plain": [
              "True"
            ]
          },
          "metadata": {},
          "execution_count": 1
        }
      ],
      "source": [
        "import nltk\n",
        "nltk.download('wordnet')"
      ]
    },
    {
      "cell_type": "markdown",
      "source": [
        "**Using synnets**"
      ],
      "metadata": {
        "id": "be-DkcYDyNmH"
      }
    },
    {
      "cell_type": "code",
      "source": [
        "from nltk.corpus import wordnet\n",
        "x = wordnet.synsets('create')"
      ],
      "metadata": {
        "id": "bZ9z4jbuxNG5"
      },
      "execution_count": null,
      "outputs": []
    },
    {
      "cell_type": "code",
      "source": [
        "synonyms = set()\n",
        "for word in x:\n",
        "  for lemma in word.lemmas():\n",
        "    synonyms.add(lemma.name())"
      ],
      "metadata": {
        "id": "WeVTkKDcxP75"
      },
      "execution_count": null,
      "outputs": []
    },
    {
      "cell_type": "code",
      "source": [
        "synonyms"
      ],
      "metadata": {
        "colab": {
          "base_uri": "https://localhost:8080/"
        },
        "id": "-VVR7hSdx3k3",
        "outputId": "aff6424a-a64d-45b6-b44b-f4b09c3d60f2"
      },
      "execution_count": null,
      "outputs": [
        {
          "output_type": "execute_result",
          "data": {
            "text/plain": [
              "{'create', 'make', 'produce'}"
            ]
          },
          "metadata": {},
          "execution_count": 4
        }
      ]
    },
    {
      "cell_type": "code",
      "source": [
        "wordnet.synsets('create')[0].lemmas()[0].name()"
      ],
      "metadata": {
        "colab": {
          "base_uri": "https://localhost:8080/",
          "height": 36
        },
        "id": "3EWZ53Z7x5dH",
        "outputId": "17f2d9f2-3de5-4dc4-bfb9-92e58ed1e0b5"
      },
      "execution_count": null,
      "outputs": [
        {
          "output_type": "execute_result",
          "data": {
            "text/plain": [
              "'make'"
            ],
            "application/vnd.google.colaboratory.intrinsic+json": {
              "type": "string"
            }
          },
          "metadata": {},
          "execution_count": 5
        }
      ]
    },
    {
      "cell_type": "code",
      "source": [
        "wordnet.synsets('create')[0].lemmas()"
      ],
      "metadata": {
        "colab": {
          "base_uri": "https://localhost:8080/"
        },
        "id": "9Dc1c3HMx-CG",
        "outputId": "4b4acd71-ded1-41d1-9bc6-2d739ec43784"
      },
      "execution_count": null,
      "outputs": [
        {
          "output_type": "execute_result",
          "data": {
            "text/plain": [
              "[Lemma('make.v.03.make'), Lemma('make.v.03.create')]"
            ]
          },
          "metadata": {},
          "execution_count": 6
        }
      ]
    },
    {
      "cell_type": "code",
      "source": [
        "synonyms = set()\n",
        "\n",
        "for word in wordnet.synsets('post'):\n",
        "  for lemma in word.lemmas():\n",
        "    synonyms.add(lemma.name())"
      ],
      "metadata": {
        "id": "RgSMq7iQyAOI"
      },
      "execution_count": null,
      "outputs": []
    },
    {
      "cell_type": "code",
      "source": [
        "synonyms"
      ],
      "metadata": {
        "colab": {
          "base_uri": "https://localhost:8080/"
        },
        "id": "h7JUhkUPyBv2",
        "outputId": "a1eb6449-2edc-49b3-97b3-90e7f66c2b6d"
      },
      "execution_count": null,
      "outputs": [
        {
          "output_type": "execute_result",
          "data": {
            "text/plain": [
              "{'C._W._Post',\n",
              " 'Charles_William_Post',\n",
              " 'Emily_Post',\n",
              " 'Emily_Price_Post',\n",
              " 'Post',\n",
              " 'Wiley_Post',\n",
              " 'berth',\n",
              " 'billet',\n",
              " 'brand',\n",
              " 'carry',\n",
              " 'mail',\n",
              " 'mail_service',\n",
              " 'military_post',\n",
              " 'office',\n",
              " 'place',\n",
              " 'position',\n",
              " 'post',\n",
              " 'postal_service',\n",
              " 'put_up',\n",
              " 'send',\n",
              " 'situation',\n",
              " 'spot',\n",
              " 'stake',\n",
              " 'station'}"
            ]
          },
          "metadata": {},
          "execution_count": 8
        }
      ]
    },
    {
      "cell_type": "code",
      "source": [
        "wordnet.synsets('post')[2].lemmas()"
      ],
      "metadata": {
        "colab": {
          "base_uri": "https://localhost:8080/"
        },
        "id": "KtD7f4gUyF_m",
        "outputId": "2deb2e32-3d87-4b71-9fb9-4f08836fd7d0"
      },
      "execution_count": null,
      "outputs": [
        {
          "output_type": "execute_result",
          "data": {
            "text/plain": [
              "[Lemma('position.n.06.position'),\n",
              " Lemma('position.n.06.post'),\n",
              " Lemma('position.n.06.berth'),\n",
              " Lemma('position.n.06.office'),\n",
              " Lemma('position.n.06.spot'),\n",
              " Lemma('position.n.06.billet'),\n",
              " Lemma('position.n.06.place'),\n",
              " Lemma('position.n.06.situation')]"
            ]
          },
          "metadata": {},
          "execution_count": 9
        }
      ]
    },
    {
      "cell_type": "markdown",
      "source": [
        "**Extract definition and meaning from wordnet**"
      ],
      "metadata": {
        "id": "T-Z5Ajvhy0P3"
      }
    },
    {
      "cell_type": "code",
      "source": [
        "synset = wordnet.synsets('post')\n",
        "print('word and type: '+synset[0].name())\n",
        "print('Meaning: '+synset[0].definition())\n",
        "print('Synonym : '+synset[0].lemmas()[0].name())\n",
        "print('Examples: '+str(synset[0].examples()))"
      ],
      "metadata": {
        "colab": {
          "base_uri": "https://localhost:8080/"
        },
        "id": "7UdE6FqXyIXY",
        "outputId": "2b9c625b-fb26-46cc-bb01-738ca7f6d5d3"
      },
      "execution_count": null,
      "outputs": [
        {
          "output_type": "stream",
          "name": "stdout",
          "text": [
            "word and type: post.n.01\n",
            "Meaning: the position where someone (as a guard or sentry) stands or is assigned to stand\n",
            "Synonym : post\n",
            "Examples: ['a soldier manned the entrance post', 'a sentry station']\n"
          ]
        }
      ]
    },
    {
      "cell_type": "code",
      "source": [
        "synset = wordnet.synsets('beautiful')\n",
        "print('word and type: '+synset[0].name())\n",
        "print('Meaning: '+synset[0].definition())\n",
        "print('Synonym : '+synset[0].lemmas()[0].name())\n",
        "print('Examples: '+str(synset[0].examples()))"
      ],
      "metadata": {
        "colab": {
          "base_uri": "https://localhost:8080/"
        },
        "id": "Y9riX0QEy1t2",
        "outputId": "09a0d81b-2fe8-40e0-daaa-7744752051d3"
      },
      "execution_count": null,
      "outputs": [
        {
          "output_type": "stream",
          "name": "stdout",
          "text": [
            "word and type: beautiful.a.01\n",
            "Meaning: delighting the senses or exciting intellectual or emotional admiration\n",
            "Synonym : beautiful\n",
            "Examples: ['a beautiful child', 'beautiful country', 'a beautiful painting', 'a beautiful theory', 'a beautiful party']\n"
          ]
        }
      ]
    },
    {
      "cell_type": "code",
      "source": [
        "synset = wordnet.synsets('post')\n",
        "print('word and type: '+synset[8].name())\n",
        "print('Meaning: '+synset[8].definition())\n",
        "print('Synonym : '+synset[8].lemmas()[0].name())\n",
        "print('Examples: '+str(synset[8].examples()))"
      ],
      "metadata": {
        "colab": {
          "base_uri": "https://localhost:8080/"
        },
        "id": "gZmVlG7ey3Gm",
        "outputId": "d7f2a0d9-f81e-40ff-be7f-69dcc282b470"
      },
      "execution_count": null,
      "outputs": [
        {
          "output_type": "stream",
          "name": "stdout",
          "text": [
            "word and type: post.n.09\n",
            "Meaning: a pole or stake set up to mark something (as the start or end of a race track)\n",
            "Synonym : post\n",
            "Examples: ['a pair of posts marked the goal', 'the corner of the lot was indicated by a stake']\n"
          ]
        }
      ]
    },
    {
      "cell_type": "code",
      "source": [
        "synset = wordnet.synsets('post')\n",
        "print('word and type: '+synset[10].name())\n",
        "print('Meaning: '+synset[10].definition())\n",
        "print('Synonym : '+synset[10].lemmas()[0].name())\n",
        "print('Examples: '+str(synset[10].examples()))"
      ],
      "metadata": {
        "colab": {
          "base_uri": "https://localhost:8080/"
        },
        "id": "AdB0qtuky4lG",
        "outputId": "4294ddb8-dcf4-4bf7-c1f7-d25c14ccc789"
      },
      "execution_count": null,
      "outputs": [
        {
          "output_type": "stream",
          "name": "stdout",
          "text": [
            "word and type: post.n.11\n",
            "Meaning: the delivery and collection of letters and packages\n",
            "Synonym : post\n",
            "Examples: ['it came by the first post', \"if you hurry you'll catch the post\"]\n"
          ]
        }
      ]
    },
    {
      "cell_type": "code",
      "source": [
        "synset"
      ],
      "metadata": {
        "colab": {
          "base_uri": "https://localhost:8080/"
        },
        "id": "vLQBrjuzy55W",
        "outputId": "161652d1-89d9-4b55-e028-e19626b727f4"
      },
      "execution_count": null,
      "outputs": [
        {
          "output_type": "execute_result",
          "data": {
            "text/plain": [
              "[Synset('post.n.01'),\n",
              " Synset('military_post.n.01'),\n",
              " Synset('position.n.06'),\n",
              " Synset('post.n.04'),\n",
              " Synset('post.n.05'),\n",
              " Synset('post.n.06'),\n",
              " Synset('post.n.07'),\n",
              " Synset('mail.n.04'),\n",
              " Synset('post.n.09'),\n",
              " Synset('mail.n.02'),\n",
              " Synset('post.n.11'),\n",
              " Synset('post.v.01'),\n",
              " Synset('post.v.02'),\n",
              " Synset('post.v.03'),\n",
              " Synset('station.v.01'),\n",
              " Synset('post.v.05'),\n",
              " Synset('post.v.06'),\n",
              " Synset('post.v.07'),\n",
              " Synset('post.v.08'),\n",
              " Synset('stake.v.03'),\n",
              " Synset('post.v.10'),\n",
              " Synset('mail.v.02'),\n",
              " Synset('post.v.12')]"
            ]
          },
          "metadata": {},
          "execution_count": 14
        }
      ]
    },
    {
      "cell_type": "code",
      "source": [
        "for word in wordnet.synsets('sound'):\n",
        "  print(word.name())\n",
        "\n",
        "print(\"+\"*50)\n",
        "for word in wordnet.synsets('sound', pos = 'n'):\n",
        "  print(word.name())\n",
        "\n",
        "print(\"+\"*50)\n",
        "for word in wordnet.synsets('sound', pos = 'v'):\n",
        "  print(word.name())\n"
      ],
      "metadata": {
        "colab": {
          "base_uri": "https://localhost:8080/"
        },
        "id": "-j9KWvfVy7TG",
        "outputId": "f2507b37-5eb3-498c-d748-cf108a328fab"
      },
      "execution_count": null,
      "outputs": [
        {
          "output_type": "stream",
          "name": "stdout",
          "text": [
            "sound.n.01\n",
            "sound.n.02\n",
            "sound.n.03\n",
            "sound.n.04\n",
            "audio.n.01\n",
            "phone.n.02\n",
            "strait.n.01\n",
            "sound.n.08\n",
            "sound.v.01\n",
            "sound.v.02\n",
            "sound.v.03\n",
            "sound.v.04\n",
            "voice.v.02\n",
            "sound.v.06\n",
            "fathom.v.02\n",
            "sound.a.01\n",
            "healthy.s.04\n",
            "sound.a.03\n",
            "good.s.17\n",
            "reasoned.s.01\n",
            "legal.s.03\n",
            "sound.s.07\n",
            "heavy.s.26\n",
            "sound.s.09\n",
            "++++++++++++++++++++++++++++++++++++++++++++++++++\n",
            "sound.n.01\n",
            "sound.n.02\n",
            "sound.n.03\n",
            "sound.n.04\n",
            "audio.n.01\n",
            "phone.n.02\n",
            "strait.n.01\n",
            "sound.n.08\n",
            "++++++++++++++++++++++++++++++++++++++++++++++++++\n",
            "sound.v.01\n",
            "sound.v.02\n",
            "sound.v.03\n",
            "sound.v.04\n",
            "voice.v.02\n",
            "sound.v.06\n",
            "fathom.v.02\n"
          ]
        }
      ]
    },
    {
      "cell_type": "markdown",
      "source": [
        "**Read a word from the user and print all meanings of it**\n",
        "\n",
        "**Read a word from user and print all noun meaning of it**"
      ],
      "metadata": {
        "id": "1kryeSjiy_u3"
      }
    },
    {
      "cell_type": "code",
      "source": [
        "word1 = input(\"Enter the Word...\")\n",
        "synsets = wordnet.synsets(word1, pos = 'n')\n",
        "for synset in synsets:\n",
        "    definition = synset.definition()\n",
        "    meaning = synset.name()\n",
        "    print(f\"Meaning: {meaning}\")\n",
        "    print(f\"Definition: {definition}\")\n",
        "\n"
      ],
      "metadata": {
        "colab": {
          "base_uri": "https://localhost:8080/"
        },
        "id": "M7NBlC4dy9k2",
        "outputId": "f4ad1793-8617-4b06-a0c6-6e2a1d82926e"
      },
      "execution_count": null,
      "outputs": [
        {
          "output_type": "stream",
          "name": "stdout",
          "text": [
            "Enter the Word...bat\n",
            "Meaning: bat.n.01\n",
            "Definition: nocturnal mouselike mammal with forelimbs modified to form membranous wings and anatomical adaptations for echolocation by which they navigate\n",
            "Meaning: bat.n.02\n",
            "Definition: (baseball) a turn trying to get a hit\n",
            "Meaning: squash_racket.n.01\n",
            "Definition: a small racket with a long handle used for playing squash\n",
            "Meaning: cricket_bat.n.01\n",
            "Definition: the club used in playing cricket\n",
            "Meaning: bat.n.05\n",
            "Definition: a club used for hitting a ball in various games\n"
          ]
        }
      ]
    },
    {
      "cell_type": "markdown",
      "source": [
        "***Different forms of meaning for a word***"
      ],
      "metadata": {
        "id": "lkvO1DMizF6n"
      }
    },
    {
      "cell_type": "code",
      "source": [
        "verbs = set()\n",
        "nouns = set()\n",
        "adj = set()\n",
        "\n",
        "for word in wordnet.synsets('sound', pos='n'):\n",
        "  nouns.add(word.lemmas()[0].name())\n",
        "\n",
        "for word in wordnet.synsets('sound', pos='v'):\n",
        "  verbs.add(word.lemmas()[0].name())\n",
        "\n",
        "for word in wordnet.synsets('sound', pos='a'):\n",
        "  adj.add(word.lemmas()[0].name())\n"
      ],
      "metadata": {
        "id": "fIc3zKItzBdn"
      },
      "execution_count": null,
      "outputs": []
    },
    {
      "cell_type": "code",
      "source": [
        "verbs, nouns, adj"
      ],
      "metadata": {
        "colab": {
          "base_uri": "https://localhost:8080/"
        },
        "id": "KhhkuQvMzHcG",
        "outputId": "e33bc479-5443-4b01-eb88-6a6e00ad1e80"
      },
      "execution_count": null,
      "outputs": [
        {
          "output_type": "execute_result",
          "data": {
            "text/plain": [
              "({'fathom', 'sound', 'voice'},\n",
              " {'audio', 'phone', 'sound', 'strait'},\n",
              " {'good', 'healthy', 'heavy', 'legal', 'reasoned', 'sound'})"
            ]
          },
          "metadata": {},
          "execution_count": 18
        }
      ]
    },
    {
      "cell_type": "markdown",
      "source": [
        "***Find Antonyms***"
      ],
      "metadata": {
        "id": "zzF_-0z6zKlf"
      }
    },
    {
      "cell_type": "code",
      "source": [
        "ant = set()\n",
        "for synset in wordnet.synsets('good'):\n",
        "  for lemma in synset.lemmas():\n",
        "    if lemma.antonyms():  # When antonyms are available, add them into the list\n",
        "      ant.add(lemma.antonyms()[0].name())\n",
        "\n",
        "ant"
      ],
      "metadata": {
        "colab": {
          "base_uri": "https://localhost:8080/"
        },
        "id": "3QcriJ5tzJGm",
        "outputId": "95124f6d-2e0f-4cec-c24e-7ebdbb00c8fa"
      },
      "execution_count": null,
      "outputs": [
        {
          "output_type": "execute_result",
          "data": {
            "text/plain": [
              "{'bad', 'badness', 'evil', 'evilness', 'ill'}"
            ]
          },
          "metadata": {},
          "execution_count": 19
        }
      ]
    },
    {
      "cell_type": "markdown",
      "source": [
        "***Find Hypernyms***"
      ],
      "metadata": {
        "id": "UmNnTRT5zNmX"
      }
    },
    {
      "cell_type": "code",
      "source": [
        "word = 'land'\n",
        "synsets = wordnet.synsets(word)\n",
        "for synset in synsets:\n",
        "    # Get hypernyms (parent concepts)\n",
        "    hypernyms = synset.hypernyms()\n",
        "    # Check if there are any hypernyms\n",
        "    if hypernyms:\n",
        "        # Print the hypernyms\n",
        "        print(f\"Hypernyms of '{word}':\")\n",
        "        for hypernym in hypernyms:\n",
        "            print(f\" {word} is a hyponym of {hypernym.name()}\")"
      ],
      "metadata": {
        "colab": {
          "base_uri": "https://localhost:8080/"
        },
        "id": "EzF7_LUtzMBG",
        "outputId": "6dcfcb1d-6fa7-4760-d63c-42c089893d94"
      },
      "execution_count": null,
      "outputs": [
        {
          "output_type": "stream",
          "name": "stdout",
          "text": [
            "Hypernyms of 'land':\n",
            " land is a hyponym of real_property.n.01\n",
            "Hypernyms of 'land':\n",
            " land is a hyponym of object.n.01\n",
            "Hypernyms of 'land':\n",
            " land is a hyponym of region.n.03\n",
            "Hypernyms of 'land':\n",
            " land is a hyponym of object.n.01\n",
            "Hypernyms of 'land':\n",
            " land is a hyponym of administrative_district.n.01\n",
            "Hypernyms of 'land':\n",
            " land is a hyponym of sphere.n.01\n",
            "Hypernyms of 'land':\n",
            " land is a hyponym of real_property.n.01\n",
            "Hypernyms of 'land':\n",
            " land is a hyponym of people.n.01\n",
            "Hypernyms of 'land':\n",
            " land is a hyponym of political_unit.n.01\n",
            "Hypernyms of 'land':\n",
            " land is a hyponym of occupation.n.01\n",
            "Hypernyms of 'land':\n",
            " land is a hyponym of arrive.v.01\n",
            "Hypernyms of 'land':\n",
            " land is a hyponym of arrive.v.01\n",
            "Hypernyms of 'land':\n",
            " land is a hyponym of change.v.01\n",
            "Hypernyms of 'land':\n",
            " land is a hyponym of bring.v.01\n",
            "Hypernyms of 'land':\n",
            " land is a hyponym of deliver.v.09\n",
            "Hypernyms of 'land':\n",
            " land is a hyponym of arrive.v.01\n"
          ]
        }
      ]
    },
    {
      "cell_type": "markdown",
      "source": [
        "**Find Meronyms**"
      ],
      "metadata": {
        "id": "1jlsLY96zSCR"
      }
    },
    {
      "cell_type": "code",
      "source": [
        "word = 'land'\n",
        "synsets = wordnet.synsets(word)\n",
        "for synset in synsets:\n",
        "    # Get hypernyms (parent concepts)\n",
        "    meronyms = synset.part_meronyms()\n",
        "    # Check if there are any hypernyms\n",
        "    if meronyms:\n",
        "        # Print the hypernyms\n",
        "        print(f\"Meronyms of '{word}':\")\n",
        "        for meronym in meronyms:\n",
        "            print(f\" {word} is a Meronym of {meronym.name()}\")"
      ],
      "metadata": {
        "colab": {
          "base_uri": "https://localhost:8080/"
        },
        "id": "Pj5DiPHQzPY2",
        "outputId": "747994ff-2a6f-43ea-814a-f3c17595ac38"
      },
      "execution_count": null,
      "outputs": [
        {
          "output_type": "stream",
          "name": "stdout",
          "text": [
            "Meronyms of 'land':\n",
            " land is a Meronym of domain.n.02\n",
            " land is a Meronym of midland.n.02\n",
            "Meronyms of 'land':\n",
            " land is a Meronym of estate_of_the_realm.n.01\n"
          ]
        }
      ]
    },
    {
      "cell_type": "code",
      "source": [
        "\n"
      ],
      "metadata": {
        "id": "0TT0Y8rUzTUW"
      },
      "execution_count": null,
      "outputs": []
    }
  ]
}