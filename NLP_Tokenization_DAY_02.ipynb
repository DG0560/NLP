{
  "nbformat": 4,
  "nbformat_minor": 0,
  "metadata": {
    "colab": {
      "provenance": []
    },
    "kernelspec": {
      "name": "python3",
      "display_name": "Python 3"
    },
    "language_info": {
      "name": "python"
    }
  },
  "cells": [
    {
      "cell_type": "code",
      "execution_count": null,
      "metadata": {
        "colab": {
          "base_uri": "https://localhost:8080/"
        },
        "id": "sCeTjIerNktO",
        "outputId": "7099875e-d487-4164-9ceb-e400e9b5e281"
      },
      "outputs": [
        {
          "output_type": "stream",
          "name": "stdout",
          "text": [
            "Requirement already satisfied: nltk in /usr/local/lib/python3.10/dist-packages (3.9.1)\n",
            "Requirement already satisfied: spacy in /usr/local/lib/python3.10/dist-packages (3.7.5)\n",
            "Requirement already satisfied: textblob in /usr/local/lib/python3.10/dist-packages (0.17.1)\n",
            "Requirement already satisfied: click in /usr/local/lib/python3.10/dist-packages (from nltk) (8.1.7)\n",
            "Requirement already satisfied: joblib in /usr/local/lib/python3.10/dist-packages (from nltk) (1.4.2)\n",
            "Requirement already satisfied: regex>=2021.8.3 in /usr/local/lib/python3.10/dist-packages (from nltk) (2024.9.11)\n",
            "Requirement already satisfied: tqdm in /usr/local/lib/python3.10/dist-packages (from nltk) (4.66.6)\n",
            "Requirement already satisfied: spacy-legacy<3.1.0,>=3.0.11 in /usr/local/lib/python3.10/dist-packages (from spacy) (3.0.12)\n",
            "Requirement already satisfied: spacy-loggers<2.0.0,>=1.0.0 in /usr/local/lib/python3.10/dist-packages (from spacy) (1.0.5)\n",
            "Requirement already satisfied: murmurhash<1.1.0,>=0.28.0 in /usr/local/lib/python3.10/dist-packages (from spacy) (1.0.11)\n",
            "Requirement already satisfied: cymem<2.1.0,>=2.0.2 in /usr/local/lib/python3.10/dist-packages (from spacy) (2.0.10)\n",
            "Requirement already satisfied: preshed<3.1.0,>=3.0.2 in /usr/local/lib/python3.10/dist-packages (from spacy) (3.0.9)\n",
            "Requirement already satisfied: thinc<8.3.0,>=8.2.2 in /usr/local/lib/python3.10/dist-packages (from spacy) (8.2.5)\n",
            "Requirement already satisfied: wasabi<1.2.0,>=0.9.1 in /usr/local/lib/python3.10/dist-packages (from spacy) (1.1.3)\n",
            "Requirement already satisfied: srsly<3.0.0,>=2.4.3 in /usr/local/lib/python3.10/dist-packages (from spacy) (2.4.8)\n",
            "Requirement already satisfied: catalogue<2.1.0,>=2.0.6 in /usr/local/lib/python3.10/dist-packages (from spacy) (2.0.10)\n",
            "Requirement already satisfied: weasel<0.5.0,>=0.1.0 in /usr/local/lib/python3.10/dist-packages (from spacy) (0.4.1)\n",
            "Requirement already satisfied: typer<1.0.0,>=0.3.0 in /usr/local/lib/python3.10/dist-packages (from spacy) (0.14.0)\n",
            "Requirement already satisfied: requests<3.0.0,>=2.13.0 in /usr/local/lib/python3.10/dist-packages (from spacy) (2.32.3)\n",
            "Requirement already satisfied: pydantic!=1.8,!=1.8.1,<3.0.0,>=1.7.4 in /usr/local/lib/python3.10/dist-packages (from spacy) (2.10.2)\n",
            "Requirement already satisfied: jinja2 in /usr/local/lib/python3.10/dist-packages (from spacy) (3.1.4)\n",
            "Requirement already satisfied: setuptools in /usr/local/lib/python3.10/dist-packages (from spacy) (75.1.0)\n",
            "Requirement already satisfied: packaging>=20.0 in /usr/local/lib/python3.10/dist-packages (from spacy) (24.2)\n",
            "Requirement already satisfied: langcodes<4.0.0,>=3.2.0 in /usr/local/lib/python3.10/dist-packages (from spacy) (3.5.0)\n",
            "Requirement already satisfied: numpy>=1.19.0 in /usr/local/lib/python3.10/dist-packages (from spacy) (1.26.4)\n",
            "Requirement already satisfied: language-data>=1.2 in /usr/local/lib/python3.10/dist-packages (from langcodes<4.0.0,>=3.2.0->spacy) (1.3.0)\n",
            "Requirement already satisfied: annotated-types>=0.6.0 in /usr/local/lib/python3.10/dist-packages (from pydantic!=1.8,!=1.8.1,<3.0.0,>=1.7.4->spacy) (0.7.0)\n",
            "Requirement already satisfied: pydantic-core==2.27.1 in /usr/local/lib/python3.10/dist-packages (from pydantic!=1.8,!=1.8.1,<3.0.0,>=1.7.4->spacy) (2.27.1)\n",
            "Requirement already satisfied: typing-extensions>=4.12.2 in /usr/local/lib/python3.10/dist-packages (from pydantic!=1.8,!=1.8.1,<3.0.0,>=1.7.4->spacy) (4.12.2)\n",
            "Requirement already satisfied: charset-normalizer<4,>=2 in /usr/local/lib/python3.10/dist-packages (from requests<3.0.0,>=2.13.0->spacy) (3.4.0)\n",
            "Requirement already satisfied: idna<4,>=2.5 in /usr/local/lib/python3.10/dist-packages (from requests<3.0.0,>=2.13.0->spacy) (3.10)\n",
            "Requirement already satisfied: urllib3<3,>=1.21.1 in /usr/local/lib/python3.10/dist-packages (from requests<3.0.0,>=2.13.0->spacy) (2.2.3)\n",
            "Requirement already satisfied: certifi>=2017.4.17 in /usr/local/lib/python3.10/dist-packages (from requests<3.0.0,>=2.13.0->spacy) (2024.8.30)\n",
            "Requirement already satisfied: blis<0.8.0,>=0.7.8 in /usr/local/lib/python3.10/dist-packages (from thinc<8.3.0,>=8.2.2->spacy) (0.7.11)\n",
            "Requirement already satisfied: confection<1.0.0,>=0.0.1 in /usr/local/lib/python3.10/dist-packages (from thinc<8.3.0,>=8.2.2->spacy) (0.1.5)\n",
            "Requirement already satisfied: shellingham>=1.3.0 in /usr/local/lib/python3.10/dist-packages (from typer<1.0.0,>=0.3.0->spacy) (1.5.4)\n",
            "Requirement already satisfied: rich>=10.11.0 in /usr/local/lib/python3.10/dist-packages (from typer<1.0.0,>=0.3.0->spacy) (13.9.4)\n",
            "Requirement already satisfied: cloudpathlib<1.0.0,>=0.7.0 in /usr/local/lib/python3.10/dist-packages (from weasel<0.5.0,>=0.1.0->spacy) (0.20.0)\n",
            "Requirement already satisfied: smart-open<8.0.0,>=5.2.1 in /usr/local/lib/python3.10/dist-packages (from weasel<0.5.0,>=0.1.0->spacy) (7.0.5)\n",
            "Requirement already satisfied: MarkupSafe>=2.0 in /usr/local/lib/python3.10/dist-packages (from jinja2->spacy) (3.0.2)\n",
            "Requirement already satisfied: marisa-trie>=1.1.0 in /usr/local/lib/python3.10/dist-packages (from language-data>=1.2->langcodes<4.0.0,>=3.2.0->spacy) (1.2.1)\n",
            "Requirement already satisfied: markdown-it-py>=2.2.0 in /usr/local/lib/python3.10/dist-packages (from rich>=10.11.0->typer<1.0.0,>=0.3.0->spacy) (3.0.0)\n",
            "Requirement already satisfied: pygments<3.0.0,>=2.13.0 in /usr/local/lib/python3.10/dist-packages (from rich>=10.11.0->typer<1.0.0,>=0.3.0->spacy) (2.18.0)\n",
            "Requirement already satisfied: wrapt in /usr/local/lib/python3.10/dist-packages (from smart-open<8.0.0,>=5.2.1->weasel<0.5.0,>=0.1.0->spacy) (1.17.0)\n",
            "Requirement already satisfied: mdurl~=0.1 in /usr/local/lib/python3.10/dist-packages (from markdown-it-py>=2.2.0->rich>=10.11.0->typer<1.0.0,>=0.3.0->spacy) (0.1.2)\n"
          ]
        }
      ],
      "source": [
        "   !pip install nltk spacy textblob"
      ]
    },
    {
      "cell_type": "code",
      "source": [
        "import nltk"
      ],
      "metadata": {
        "id": "j-SR6AIgNmpL"
      },
      "execution_count": null,
      "outputs": []
    },
    {
      "cell_type": "code",
      "source": [
        "nltk.download('punkt')                        # tokenization\n",
        "nltk.download('punkt_tab')                    # tokenization\n",
        "nltk.download('stopwords')                    # collection of stopwords\n",
        "nltk.download('wordnet')                      # wordnet -> database of english words\n",
        "nltk.download('omw-1.4')                      # open multilinguial wordnet\n",
        "nltk.download('averaged_perceptron_tagger')   # POS tagging\n",
        "nltk.download('indian')                       # Indian language POS tagging\n",
        "nltk.download('maxent_ne_chunker')            # NER tagging"
      ],
      "metadata": {
        "colab": {
          "base_uri": "https://localhost:8080/"
        },
        "id": "OY5HA6TaNoMZ",
        "outputId": "80e0fb9b-7066-48bf-bd51-ae9d871d6449"
      },
      "execution_count": null,
      "outputs": [
        {
          "output_type": "stream",
          "name": "stderr",
          "text": [
            "[nltk_data] Downloading package punkt to /root/nltk_data...\n",
            "[nltk_data]   Unzipping tokenizers/punkt.zip.\n",
            "[nltk_data] Downloading package punkt_tab to /root/nltk_data...\n",
            "[nltk_data]   Unzipping tokenizers/punkt_tab.zip.\n",
            "[nltk_data] Downloading package stopwords to /root/nltk_data...\n",
            "[nltk_data]   Unzipping corpora/stopwords.zip.\n",
            "[nltk_data] Downloading package wordnet to /root/nltk_data...\n",
            "[nltk_data] Downloading package omw-1.4 to /root/nltk_data...\n",
            "[nltk_data] Downloading package averaged_perceptron_tagger to\n",
            "[nltk_data]     /root/nltk_data...\n",
            "[nltk_data]   Unzipping taggers/averaged_perceptron_tagger.zip.\n",
            "[nltk_data] Downloading package indian to /root/nltk_data...\n",
            "[nltk_data]   Unzipping corpora/indian.zip.\n",
            "[nltk_data] Downloading package maxent_ne_chunker to\n",
            "[nltk_data]     /root/nltk_data...\n",
            "[nltk_data]   Unzipping chunkers/maxent_ne_chunker.zip.\n"
          ]
        },
        {
          "output_type": "execute_result",
          "data": {
            "text/plain": [
              "True"
            ]
          },
          "metadata": {},
          "execution_count": 3
        }
      ]
    },
    {
      "cell_type": "markdown",
      "source": [
        "## Word Tokenize"
      ],
      "metadata": {
        "id": "P3zJ9KkpNs2q"
      }
    },
    {
      "cell_type": "code",
      "source": [
        "sent = 'They told that their ages are 25, 26 and 31 respectively.'"
      ],
      "metadata": {
        "id": "I6dfzeP5Nq45"
      },
      "execution_count": null,
      "outputs": []
    },
    {
      "cell_type": "code",
      "source": [
        "sent.split(' ')"
      ],
      "metadata": {
        "colab": {
          "base_uri": "https://localhost:8080/"
        },
        "id": "QdrAZZHHNwB4",
        "outputId": "02744a55-e8a3-4c45-a0cc-65761127fb70"
      },
      "execution_count": null,
      "outputs": [
        {
          "output_type": "execute_result",
          "data": {
            "text/plain": [
              "['They',\n",
              " 'told',\n",
              " 'that',\n",
              " 'their',\n",
              " 'ages',\n",
              " 'are',\n",
              " '25,',\n",
              " '26',\n",
              " 'and',\n",
              " '31',\n",
              " 'respectively.']"
            ]
          },
          "metadata": {},
          "execution_count": 5
        }
      ]
    },
    {
      "cell_type": "code",
      "source": [
        "from nltk.tokenize import word_tokenize\n",
        "word_tokenize(sent)"
      ],
      "metadata": {
        "colab": {
          "base_uri": "https://localhost:8080/"
        },
        "id": "4huKTzOUNzWI",
        "outputId": "3e3dc6c9-46a6-4311-e5db-e27248471cac"
      },
      "execution_count": null,
      "outputs": [
        {
          "output_type": "execute_result",
          "data": {
            "text/plain": [
              "['They',\n",
              " 'told',\n",
              " 'that',\n",
              " 'their',\n",
              " 'ages',\n",
              " 'are',\n",
              " '25',\n",
              " ',',\n",
              " '26',\n",
              " 'and',\n",
              " '31',\n",
              " 'respectively',\n",
              " '.']"
            ]
          },
          "metadata": {},
          "execution_count": 6
        }
      ]
    },
    {
      "cell_type": "code",
      "source": [
        "sent = 'Dr. Deshmukh told me about this.'"
      ],
      "metadata": {
        "id": "1iV70VNLN7OJ"
      },
      "execution_count": null,
      "outputs": []
    },
    {
      "cell_type": "code",
      "source": [
        "word_tokenize(sent)"
      ],
      "metadata": {
        "colab": {
          "base_uri": "https://localhost:8080/"
        },
        "id": "0g3SIHMPN8pZ",
        "outputId": "84a28117-0369-4aa9-e164-8ddd436ff185"
      },
      "execution_count": null,
      "outputs": [
        {
          "output_type": "execute_result",
          "data": {
            "text/plain": [
              "['Dr.', 'Deshmukh', 'told', 'me', 'about', 'this', '.']"
            ]
          },
          "metadata": {},
          "execution_count": 8
        }
      ]
    },
    {
      "cell_type": "code",
      "source": [
        "sents = '''Hello friends!\n",
        "        How are you? Welcome to the world of Python Programming.'''"
      ],
      "metadata": {
        "id": "t2jHxtpWN-DD"
      },
      "execution_count": null,
      "outputs": []
    },
    {
      "cell_type": "code",
      "source": [
        "# count percentage of punctuaions in it\n",
        "tokens = word_tokenize(sents)"
      ],
      "metadata": {
        "id": "fq6Dd-diN_pp"
      },
      "execution_count": null,
      "outputs": []
    },
    {
      "cell_type": "code",
      "source": [
        "import string\n",
        "string.punctuation"
      ],
      "metadata": {
        "colab": {
          "base_uri": "https://localhost:8080/",
          "height": 35
        },
        "id": "KAkrC9ysOBNI",
        "outputId": "d2d8239f-75c7-43e8-b267-9830c48c6f25"
      },
      "execution_count": null,
      "outputs": [
        {
          "output_type": "execute_result",
          "data": {
            "text/plain": [
              "'!\"#$%&\\'()*+,-./:;<=>?@[\\\\]^_`{|}~'"
            ],
            "application/vnd.google.colaboratory.intrinsic+json": {
              "type": "string"
            }
          },
          "metadata": {},
          "execution_count": 11
        }
      ]
    },
    {
      "cell_type": "code",
      "source": [
        "# count = [word for word in tokens if word in string.punctuation]\n",
        "count = [word for word in tokens if not word.isalpha() and not word.isdigit()]"
      ],
      "metadata": {
        "id": "b2DgRbk8OC25"
      },
      "execution_count": null,
      "outputs": []
    },
    {
      "cell_type": "code",
      "source": [
        "len(count) / len(tokens) * 100"
      ],
      "metadata": {
        "colab": {
          "base_uri": "https://localhost:8080/"
        },
        "id": "v-O6ZgmWOEdI",
        "outputId": "a04eebb8-f8f2-41f6-96b8-00049b662ec6"
      },
      "execution_count": null,
      "outputs": [
        {
          "output_type": "execute_result",
          "data": {
            "text/plain": [
              "20.0"
            ]
          },
          "metadata": {},
          "execution_count": 13
        }
      ]
    },
    {
      "cell_type": "code",
      "source": [
        "sent=\"\"\"\n",
        "लंडन (इंग्लिश: En-uk-London.ogg London ) हे इंग्लंडचे व युनायटेड किंग्डमचे राजधानीचे व सर्वात मोठे शहर तसेच युरोपियन संघामधील सर्वात मोठे महानगर क्षेत्र आहे. थेम्स नदीच्या काठावर वसलेल्या ह्या शहराला २,००० पेक्षा जास्त वर्षांचा इतिहास आहे.\n",
        "\n",
        "लंडन हे अर्थ, कला आणि उद्योग या क्षेत्रांमध्ये जगातील एक प्रमुख शहर आहे. न्यू यॉर्क शहर व टोकियोसोबत लंडन हे जगातील सर्वात शक्तिशाली आर्थिक केंद्र मानले जाते.तसेच युरोपातील सर्वात मोठे अर्थव्यवस्था असलेले शहर हा मान देखील लंडनकडेच जातो. जगातील सर्वाधिक आंतरराष्ट्रीय पर्यटक लंडनमध्ये येतात तसेच लंडन हीथ्रो विमानतळ हा आंतरराष्ट्रीय प्रवासी वाहतूकीसाठी जगातील सर्वात मोठा विमानतळ आहे. २०१२ सालच्या ऑलिंपिक स्पर्धा लंडनमध्ये भरवल्या गेल्या. ह्या स्पर्धांचे तिसऱ्यांदा आयोजन करणारे लंडन हे जगातील एकमेव शहर आहे.\"\"\""
      ],
      "metadata": {
        "id": "_4yX0BRROFwo"
      },
      "execution_count": null,
      "outputs": []
    },
    {
      "cell_type": "code",
      "source": [
        "sent"
      ],
      "metadata": {
        "colab": {
          "base_uri": "https://localhost:8080/",
          "height": 70
        },
        "id": "VdObF_JUOahY",
        "outputId": "f6e2db9f-8ade-40e2-fbda-471c525efcdb"
      },
      "execution_count": null,
      "outputs": [
        {
          "output_type": "execute_result",
          "data": {
            "text/plain": [
              "'\\nलंडन (इंग्लिश: En-uk-London.ogg London ) हे इंग्लंडचे व युनायटेड किंग्डमचे राजधानीचे व सर्वात मोठे शहर तसेच युरोपियन संघामधील सर्वात मोठे महानगर क्षेत्र आहे. थेम्स नदीच्या काठावर वसलेल्या ह्या शहराला २,००० पेक्षा जास्त वर्षांचा इतिहास आहे.\\n\\nलंडन हे अर्थ, कला आणि उद्योग या क्षेत्रांमध्ये जगातील एक प्रमुख शहर आहे. न्यू यॉर्क शहर व टोकियोसोबत लंडन हे जगातील सर्वात शक्तिशाली आर्थिक केंद्र मानले जाते.तसेच युरोपातील सर्वात मोठे अर्थव्यवस्था असलेले शहर हा मान देखील लंडनकडेच जातो. जगातील सर्वाधिक आंतरराष्ट्रीय पर्यटक लंडनमध्ये येतात तसेच लंडन हीथ्रो विमानतळ हा आंतरराष्ट्रीय प्रवासी वाहतूकीसाठी जगातील सर्वात मोठा विमानतळ आहे. २०१२ सालच्या ऑलिंपिक स्पर्धा लंडनमध्ये भरवल्या गेल्या. ह्या स्पर्धांचे तिसऱ्यांदा आयोजन करणारे लंडन हे जगातील एकमेव शहर आहे.'"
            ],
            "application/vnd.google.colaboratory.intrinsic+json": {
              "type": "string"
            }
          },
          "metadata": {},
          "execution_count": 15
        }
      ]
    },
    {
      "cell_type": "code",
      "source": [
        "tokens = word_tokenize(sent)"
      ],
      "metadata": {
        "id": "56D8BhPGOdpo"
      },
      "execution_count": null,
      "outputs": []
    },
    {
      "cell_type": "code",
      "source": [
        "tokens"
      ],
      "metadata": {
        "colab": {
          "base_uri": "https://localhost:8080/"
        },
        "id": "IGbviR15OiII",
        "outputId": "4485a65f-ac19-4270-ccf4-29251fb0bebe"
      },
      "execution_count": null,
      "outputs": [
        {
          "output_type": "execute_result",
          "data": {
            "text/plain": [
              "['लंडन',\n",
              " '(',\n",
              " 'इंग्लिश',\n",
              " ':',\n",
              " 'En-uk-London.ogg',\n",
              " 'London',\n",
              " ')',\n",
              " 'हे',\n",
              " 'इंग्लंडचे',\n",
              " 'व',\n",
              " 'युनायटेड',\n",
              " 'किंग्डमचे',\n",
              " 'राजधानीचे',\n",
              " 'व',\n",
              " 'सर्वात',\n",
              " 'मोठे',\n",
              " 'शहर',\n",
              " 'तसेच',\n",
              " 'युरोपियन',\n",
              " 'संघामधील',\n",
              " 'सर्वात',\n",
              " 'मोठे',\n",
              " 'महानगर',\n",
              " 'क्षेत्र',\n",
              " 'आहे',\n",
              " '.',\n",
              " 'थेम्स',\n",
              " 'नदीच्या',\n",
              " 'काठावर',\n",
              " 'वसलेल्या',\n",
              " 'ह्या',\n",
              " 'शहराला',\n",
              " '२,०००',\n",
              " 'पेक्षा',\n",
              " 'जास्त',\n",
              " 'वर्षांचा',\n",
              " 'इतिहास',\n",
              " 'आहे',\n",
              " '.',\n",
              " 'लंडन',\n",
              " 'हे',\n",
              " 'अर्थ',\n",
              " ',',\n",
              " 'कला',\n",
              " 'आणि',\n",
              " 'उद्योग',\n",
              " 'या',\n",
              " 'क्षेत्रांमध्ये',\n",
              " 'जगातील',\n",
              " 'एक',\n",
              " 'प्रमुख',\n",
              " 'शहर',\n",
              " 'आहे',\n",
              " '.',\n",
              " 'न्यू',\n",
              " 'यॉर्क',\n",
              " 'शहर',\n",
              " 'व',\n",
              " 'टोकियोसोबत',\n",
              " 'लंडन',\n",
              " 'हे',\n",
              " 'जगातील',\n",
              " 'सर्वात',\n",
              " 'शक्तिशाली',\n",
              " 'आर्थिक',\n",
              " 'केंद्र',\n",
              " 'मानले',\n",
              " 'जाते.तसेच',\n",
              " 'युरोपातील',\n",
              " 'सर्वात',\n",
              " 'मोठे',\n",
              " 'अर्थव्यवस्था',\n",
              " 'असलेले',\n",
              " 'शहर',\n",
              " 'हा',\n",
              " 'मान',\n",
              " 'देखील',\n",
              " 'लंडनकडेच',\n",
              " 'जातो',\n",
              " '.',\n",
              " 'जगातील',\n",
              " 'सर्वाधिक',\n",
              " 'आंतरराष्ट्रीय',\n",
              " 'पर्यटक',\n",
              " 'लंडनमध्ये',\n",
              " 'येतात',\n",
              " 'तसेच',\n",
              " 'लंडन',\n",
              " 'हीथ्रो',\n",
              " 'विमानतळ',\n",
              " 'हा',\n",
              " 'आंतरराष्ट्रीय',\n",
              " 'प्रवासी',\n",
              " 'वाहतूकीसाठी',\n",
              " 'जगातील',\n",
              " 'सर्वात',\n",
              " 'मोठा',\n",
              " 'विमानतळ',\n",
              " 'आहे',\n",
              " '.',\n",
              " '२०१२',\n",
              " 'सालच्या',\n",
              " 'ऑलिंपिक',\n",
              " 'स्पर्धा',\n",
              " 'लंडनमध्ये',\n",
              " 'भरवल्या',\n",
              " 'गेल्या',\n",
              " '.',\n",
              " 'ह्या',\n",
              " 'स्पर्धांचे',\n",
              " 'तिसऱ्यांदा',\n",
              " 'आयोजन',\n",
              " 'करणारे',\n",
              " 'लंडन',\n",
              " 'हे',\n",
              " 'जगातील',\n",
              " 'एकमेव',\n",
              " 'शहर',\n",
              " 'आहे',\n",
              " '.']"
            ]
          },
          "metadata": {},
          "execution_count": 17
        }
      ]
    },
    {
      "cell_type": "markdown",
      "source": [
        "#sentence Tokenization"
      ],
      "metadata": {
        "id": "4V2nLRzlRARp"
      }
    },
    {
      "cell_type": "code",
      "source": [
        "from nltk.tokenize import sent_tokenize"
      ],
      "metadata": {
        "id": "ueviTaq8Ool4"
      },
      "execution_count": null,
      "outputs": []
    },
    {
      "cell_type": "code",
      "source": [
        "text='''hello friends!\n",
        "how are you? welcome to the world of python programming.'''"
      ],
      "metadata": {
        "id": "MZek0UnpRI_I"
      },
      "execution_count": null,
      "outputs": []
    },
    {
      "cell_type": "code",
      "source": [
        "sent_tokenize(text)"
      ],
      "metadata": {
        "colab": {
          "base_uri": "https://localhost:8080/"
        },
        "id": "78TNNMOMRSDI",
        "outputId": "851cb2dd-d86b-4451-82cc-73722eb709df"
      },
      "execution_count": null,
      "outputs": [
        {
          "output_type": "execute_result",
          "data": {
            "text/plain": [
              "['hello friends!',\n",
              " 'how are you?',\n",
              " 'welcome to the world of python programming.']"
            ]
          },
          "metadata": {},
          "execution_count": 23
        }
      ]
    },
    {
      "cell_type": "code",
      "source": [
        "sent=\"\"\"\n",
        "लंडन (इंग्लिश: En-uk-London.ogg London ) हे इंग्लंडचे व युनायटेड किंग्डमचे राजधानीचे व सर्वात मोठे शहर तसेच युरोपियन संघामधील सर्वात मोठे महानगर क्षेत्र आहे. थेम्स नदीच्या काठावर वसलेल्या ह्या शहराला २,००० पेक्षा जास्त वर्षांचा इतिहास आहे.\n",
        "\n",
        "लंडन हे अर्थ, कला आणि उद्योग या क्षेत्रांमध्ये जगातील एक प्रमुख शहर आहे. न्यू यॉर्क शहर व टोकियोसोबत लंडन हे जगातील सर्वात शक्तिशाली आर्थिक केंद्र मानले जाते.तसेच युरोपातील सर्वात मोठे अर्थव्यवस्था असलेले शहर हा मान देखील लंडनकडेच जातो. जगातील सर्वाधिक आंतरराष्ट्रीय पर्यटक लंडनमध्ये येतात तसेच लंडन हीथ्रो विमानतळ हा आंतरराष्ट्रीय प्रवासी वाहतूकीसाठी जगातील सर्वात मोठा विमानतळ आहे. २०१२ सालच्या ऑलिंपिक स्पर्धा लंडनमध्ये भरवल्या गेल्या. ह्या स्पर्धांचे तिसऱ्यांदा आयोजन करणारे लंडन हे जगातील एकमेव शहर आहे.\"\"\""
      ],
      "metadata": {
        "id": "5zzPSJrRRVjo"
      },
      "execution_count": null,
      "outputs": []
    },
    {
      "cell_type": "code",
      "source": [
        "sent_tokenize(sent)"
      ],
      "metadata": {
        "colab": {
          "base_uri": "https://localhost:8080/"
        },
        "id": "kIsdw-jfSM3p",
        "outputId": "3f61118c-2a44-4a92-d3f3-1c90cb67c381"
      },
      "execution_count": null,
      "outputs": [
        {
          "output_type": "execute_result",
          "data": {
            "text/plain": [
              "['\\nलंडन (इंग्लिश: En-uk-London.ogg London ) हे इंग्लंडचे व युनायटेड किंग्डमचे राजधानीचे व सर्वात मोठे शहर तसेच युरोपियन संघामधील सर्वात मोठे महानगर क्षेत्र आहे.',\n",
              " 'थेम्स नदीच्या काठावर वसलेल्या ह्या शहराला २,००० पेक्षा जास्त वर्षांचा इतिहास आहे.',\n",
              " 'लंडन हे अर्थ, कला आणि उद्योग या क्षेत्रांमध्ये जगातील एक प्रमुख शहर आहे.',\n",
              " 'न्यू यॉर्क शहर व टोकियोसोबत लंडन हे जगातील सर्वात शक्तिशाली आर्थिक केंद्र मानले जाते.तसेच युरोपातील सर्वात मोठे अर्थव्यवस्था असलेले शहर हा मान देखील लंडनकडेच जातो.',\n",
              " 'जगातील सर्वाधिक आंतरराष्ट्रीय पर्यटक लंडनमध्ये येतात तसेच लंडन हीथ्रो विमानतळ हा आंतरराष्ट्रीय प्रवासी वाहतूकीसाठी जगातील सर्वात मोठा विमानतळ आहे.',\n",
              " '२०१२ सालच्या ऑलिंपिक स्पर्धा लंडनमध्ये भरवल्या गेल्या.',\n",
              " 'ह्या स्पर्धांचे तिसऱ्यांदा आयोजन करणारे लंडन हे जगातील एकमेव शहर आहे.']"
            ]
          },
          "metadata": {},
          "execution_count": 25
        }
      ]
    },
    {
      "cell_type": "code",
      "source": [
        "india=\"\"\"This article is about the Republic of India.India, For other uses, see India (disambiguation)., officially the Republic of India,[j][20] is a country in South Asia. It is the seventh-largest country in the world by area and the most populous country. Bounded by the Indian Ocean on the south, the Arabian Sea on the southwest, and the Bay of Bengal on the southeast, it shares land borders with Pakistan to the west;[k] China, Nepal, and Bhutan to the north; and Bangladesh and Myanmar to the east. In the Indian Ocean, India is in the vicinity of Sri Lanka and the Maldives; its Andaman and Nicobar Islands share a maritime border with Thailand, Myanmar, and Indonesia.\n",
        "\n",
        "Modern humans arrived on the Indian subcontinent from Africa no later than 55,000 years ago.[22][23][24] Their long occupation, initially in varying forms of isolation as hunter-gatherers, has made the region highly diverse, second only to Africa in human genetic diversity.[25] Settled life emerged on the subcontinent in the western margins of the Indus river basin 9,000 years ago, evolving gradually into the Indus Valley Civilisation of the third millennium BCE.[26] By at least 1200 BCE, an archaic form of Sanskrit, an Indo-European language, had diffused into India from the northwest.[27][28] Its evidence today is found in the hymns of the Rigveda. Preserved by an oral tradition that was resolutely vigilant, the Rigveda records the dawning of Hinduism in India.[29] The Dravidian languages of India were supplanted in the northern and western regions.[30] By 400 BCE, stratification and exclusion by caste had emerged within Hinduism,[31] and Buddhism and Jainism had arisen, proclaiming social orders unlinked to heredity.[32] Early political consolidations gave rise to the loose-knit Maurya and Gupta Empires based in the Ganges Basin.[33] Their collective era was suffused with wide-ranging creativity,[34] but also marked by the declining status of women,[35] and the incorporation of untouchability into an organised system of belief.[l][36] The Middle kingdoms exported Sanskrit language, south Indian scripts and religions of Hinduism and Buddhism to the Southeast Asia.[37]\"\"\""
      ],
      "metadata": {
        "id": "JeV8k2ztSRdY"
      },
      "execution_count": null,
      "outputs": []
    },
    {
      "cell_type": "code",
      "source": [
        "india"
      ],
      "metadata": {
        "colab": {
          "base_uri": "https://localhost:8080/",
          "height": 105
        },
        "id": "WvclgHvSTExI",
        "outputId": "8cedb280-53a9-4fee-b1c7-879b56547a8a"
      },
      "execution_count": null,
      "outputs": [
        {
          "output_type": "execute_result",
          "data": {
            "text/plain": [
              "'This article is about the Republic of India.India, For other uses, see India (disambiguation)., officially the Republic of India,[j][20] is a country in South Asia. It is the seventh-largest country in the world by area and the most populous country. Bounded by the Indian Ocean on the south, the Arabian Sea on the southwest, and the Bay of Bengal on the southeast, it shares land borders with Pakistan to the west;[k] China, Nepal, and Bhutan to the north; and Bangladesh and Myanmar to the east. In the Indian Ocean, India is in the vicinity of Sri Lanka and the Maldives; its Andaman and Nicobar Islands share a maritime border with Thailand, Myanmar, and Indonesia.\\n\\nModern humans arrived on the Indian subcontinent from Africa no later than 55,000 years ago.[22][23][24] Their long occupation, initially in varying forms of isolation as hunter-gatherers, has made the region highly diverse, second only to Africa in human genetic diversity.[25] Settled life emerged on the subcontinent in the western margins of the Indus river basin 9,000 years ago, evolving gradually into the Indus Valley Civilisation of the third millennium BCE.[26] By at least 1200 BCE, an archaic form of Sanskrit, an Indo-European language, had diffused into India from the northwest.[27][28] Its evidence today is found in the hymns of the Rigveda. Preserved by an oral tradition that was resolutely vigilant, the Rigveda records the dawning of Hinduism in India.[29] The Dravidian languages of India were supplanted in the northern and western regions.[30] By 400 BCE, stratification and exclusion by caste had emerged within Hinduism,[31] and Buddhism and Jainism had arisen, proclaiming social orders unlinked to heredity.[32] Early political consolidations gave rise to the loose-knit Maurya and Gupta Empires based in the Ganges Basin.[33] Their collective era was suffused with wide-ranging creativity,[34] but also marked by the declining status of women,[35] and the incorporation of untouchability into an organised system of belief.[l][36] The Middle kingdoms exported Sanskrit language, south Indian scripts and religions of Hinduism and Buddhism to the Southeast Asia.[37]'"
            ],
            "application/vnd.google.colaboratory.intrinsic+json": {
              "type": "string"
            }
          },
          "metadata": {},
          "execution_count": 29
        }
      ]
    },
    {
      "cell_type": "code",
      "source": [
        "sentences=sent_tokenize(india)"
      ],
      "metadata": {
        "id": "9p2-ShP7TY_I"
      },
      "execution_count": null,
      "outputs": []
    },
    {
      "cell_type": "code",
      "source": [
        "max=0\n",
        "final_sent=\"\"\n",
        "\n",
        "for sent in sent_tokenize(india):\n",
        "\n",
        "  count=word_tokenize(sent.lower()).count('the')\n",
        "\n",
        "  if count>max:\n",
        "    max=count\n",
        "    final_sent=sent\n",
        "\n",
        "\n",
        "\n",
        "\n"
      ],
      "metadata": {
        "id": "wX97_su2T1Uo"
      },
      "execution_count": null,
      "outputs": []
    },
    {
      "cell_type": "code",
      "source": [
        "final_sent"
      ],
      "metadata": {
        "colab": {
          "base_uri": "https://localhost:8080/",
          "height": 53
        },
        "id": "jQssyZknW0S4",
        "outputId": "9de3a88b-eec7-47d1-ccdc-90d680ff2f23"
      },
      "execution_count": null,
      "outputs": [
        {
          "output_type": "execute_result",
          "data": {
            "text/plain": [
              "'Bounded by the Indian Ocean on the south, the Arabian Sea on the southwest, and the Bay of Bengal on the southeast, it shares land borders with Pakistan to the west;[k] China, Nepal, and Bhutan to the north; and Bangladesh and Myanmar to the east.'"
            ],
            "application/vnd.google.colaboratory.intrinsic+json": {
              "type": "string"
            }
          },
          "metadata": {},
          "execution_count": 41
        }
      ]
    },
    {
      "cell_type": "markdown",
      "source": [
        "#Whitespace Tokenize"
      ],
      "metadata": {
        "id": "GPGPyLanXsMZ"
      }
    },
    {
      "cell_type": "code",
      "source": [
        "from nltk.tokenize import WhitespaceTokenizer"
      ],
      "metadata": {
        "id": "dUkQAkgmXp_n"
      },
      "execution_count": null,
      "outputs": []
    },
    {
      "cell_type": "code",
      "source": [
        "tk=WhitespaceTokenizer()"
      ],
      "metadata": {
        "id": "uCBhVdz4X0so"
      },
      "execution_count": null,
      "outputs": []
    },
    {
      "cell_type": "code",
      "source": [
        "tk.tokenize(text)"
      ],
      "metadata": {
        "colab": {
          "base_uri": "https://localhost:8080/"
        },
        "id": "4zGMIpIoX4fX",
        "outputId": "c694de78-5ae3-48d2-8942-cb06091df195"
      },
      "execution_count": null,
      "outputs": [
        {
          "output_type": "execute_result",
          "data": {
            "text/plain": [
              "['hello',\n",
              " 'friends!',\n",
              " 'how',\n",
              " 'are',\n",
              " 'you?',\n",
              " 'welcome',\n",
              " 'to',\n",
              " 'the',\n",
              " 'world',\n",
              " 'of',\n",
              " 'python',\n",
              " 'programming.']"
            ]
          },
          "metadata": {},
          "execution_count": 44
        }
      ]
    },
    {
      "cell_type": "markdown",
      "source": [
        "#Space Tokenizer"
      ],
      "metadata": {
        "id": "tuXl1zQsZK7R"
      }
    },
    {
      "cell_type": "code",
      "source": [
        "from nltk.tokenize import SpaceTokenizer"
      ],
      "metadata": {
        "id": "PGLhHJe7X8NX"
      },
      "execution_count": null,
      "outputs": []
    },
    {
      "cell_type": "code",
      "source": [
        "tk=SpaceTokenizer()"
      ],
      "metadata": {
        "id": "Z6uf_b87ZQaH"
      },
      "execution_count": null,
      "outputs": []
    },
    {
      "cell_type": "code",
      "source": [
        "print(text)"
      ],
      "metadata": {
        "colab": {
          "base_uri": "https://localhost:8080/"
        },
        "id": "sqIjx1bSZVl3",
        "outputId": "98357832-8bc7-4879-98af-0031a0ceb389"
      },
      "execution_count": null,
      "outputs": [
        {
          "output_type": "stream",
          "name": "stdout",
          "text": [
            "hello friends!\n",
            "how are you? welcome to the world of python programming.\n"
          ]
        }
      ]
    },
    {
      "cell_type": "code",
      "source": [
        "tk.tokenize(text)"
      ],
      "metadata": {
        "colab": {
          "base_uri": "https://localhost:8080/"
        },
        "id": "qPpwAjavZYy4",
        "outputId": "3c69c08a-e82b-4488-dd1b-6e10b2fc206c"
      },
      "execution_count": null,
      "outputs": [
        {
          "output_type": "execute_result",
          "data": {
            "text/plain": [
              "['hello',\n",
              " 'friends!\\nhow',\n",
              " 'are',\n",
              " 'you?',\n",
              " 'welcome',\n",
              " 'to',\n",
              " 'the',\n",
              " 'world',\n",
              " 'of',\n",
              " 'python',\n",
              " 'programming.']"
            ]
          },
          "metadata": {},
          "execution_count": 50
        }
      ]
    },
    {
      "cell_type": "markdown",
      "source": [
        "#line Tokenizer"
      ],
      "metadata": {
        "id": "XbY91ypQZrSp"
      }
    },
    {
      "cell_type": "code",
      "source": [
        "from nltk.tokenize import LineTokenizer"
      ],
      "metadata": {
        "id": "VOVYt291ZcfI"
      },
      "execution_count": null,
      "outputs": []
    },
    {
      "cell_type": "code",
      "source": [
        "tk=LineTokenizer()"
      ],
      "metadata": {
        "id": "AbqoyFfJZwSH"
      },
      "execution_count": null,
      "outputs": []
    },
    {
      "cell_type": "code",
      "source": [
        "tk.tokenize(text)"
      ],
      "metadata": {
        "colab": {
          "base_uri": "https://localhost:8080/"
        },
        "id": "XpYzAN5bZzZt",
        "outputId": "487d4cb6-ebba-46a4-aa99-db70abba2e26"
      },
      "execution_count": null,
      "outputs": [
        {
          "output_type": "execute_result",
          "data": {
            "text/plain": [
              "['hello friends!', 'how are you? welcome to the world of python programming.']"
            ]
          },
          "metadata": {},
          "execution_count": 53
        }
      ]
    },
    {
      "cell_type": "markdown",
      "source": [
        "#Tab Tokenizer"
      ],
      "metadata": {
        "id": "BsSqmz4TaDnx"
      }
    },
    {
      "cell_type": "code",
      "source": [
        "from nltk.tokenize import TabTokenizer"
      ],
      "metadata": {
        "id": "qglPbzg_Z26n"
      },
      "execution_count": null,
      "outputs": []
    },
    {
      "cell_type": "code",
      "source": [
        "tk=TabTokenizer()"
      ],
      "metadata": {
        "id": "OSm8HKuyaJM3"
      },
      "execution_count": null,
      "outputs": []
    },
    {
      "cell_type": "code",
      "source": [
        "text=\"\"\"hello friends!\n",
        "how are you? welcome to the world of\\tpython\\tprogramming.\"\"\""
      ],
      "metadata": {
        "id": "2ROL4WL_aLDY"
      },
      "execution_count": null,
      "outputs": []
    },
    {
      "cell_type": "code",
      "source": [
        "print(text)"
      ],
      "metadata": {
        "colab": {
          "base_uri": "https://localhost:8080/"
        },
        "id": "kngyIxtjaUto",
        "outputId": "d6d8b8ea-6d43-4671-9b5d-6a6e6687cf01"
      },
      "execution_count": null,
      "outputs": [
        {
          "output_type": "stream",
          "name": "stdout",
          "text": [
            "hello friends!\n",
            "how are you? welcome to the world of\tpython\tprogramming.\n"
          ]
        }
      ]
    },
    {
      "cell_type": "code",
      "source": [
        "tk.tokenize(text)"
      ],
      "metadata": {
        "colab": {
          "base_uri": "https://localhost:8080/"
        },
        "id": "7A-NLoFgaWcH",
        "outputId": "9c0e9f8b-7896-4823-ae19-0fb7762e9fa3"
      },
      "execution_count": null,
      "outputs": [
        {
          "output_type": "execute_result",
          "data": {
            "text/plain": [
              "['hello friends!\\nhow are you? welcome to the world of',\n",
              " 'python',\n",
              " 'programming.']"
            ]
          },
          "metadata": {},
          "execution_count": 58
        }
      ]
    },
    {
      "cell_type": "markdown",
      "source": [
        "#Tweet Tokenizer"
      ],
      "metadata": {
        "id": "cJHnuwjobEH4"
      }
    },
    {
      "cell_type": "code",
      "source": [
        "data='''Hello friends!:) how are you😁? welcome :$ to the world of python <3. :)💀'''"
      ],
      "metadata": {
        "id": "GhCaevveaaKX"
      },
      "execution_count": null,
      "outputs": []
    },
    {
      "cell_type": "code",
      "source": [
        "word_tokenize(data)"
      ],
      "metadata": {
        "colab": {
          "base_uri": "https://localhost:8080/"
        },
        "id": "zWRxDdS_daYC",
        "outputId": "d80b757e-e190-4f7c-f98c-70d14d503118"
      },
      "execution_count": null,
      "outputs": [
        {
          "output_type": "execute_result",
          "data": {
            "text/plain": [
              "['Hello',\n",
              " 'friends',\n",
              " '!',\n",
              " ':',\n",
              " ')',\n",
              " 'how',\n",
              " 'are',\n",
              " 'you😁',\n",
              " '?',\n",
              " 'welcome',\n",
              " ':',\n",
              " '$',\n",
              " 'to',\n",
              " 'the',\n",
              " 'world',\n",
              " 'of',\n",
              " 'python',\n",
              " '<',\n",
              " '3',\n",
              " '.',\n",
              " ':',\n",
              " ')',\n",
              " '💀']"
            ]
          },
          "metadata": {},
          "execution_count": 73
        }
      ]
    },
    {
      "cell_type": "code",
      "source": [
        "from nltk.tokenize import TweetTokenizer"
      ],
      "metadata": {
        "id": "6BCce8v7b68Y"
      },
      "execution_count": null,
      "outputs": []
    },
    {
      "cell_type": "code",
      "source": [
        "tk=TweetTokenizer()"
      ],
      "metadata": {
        "id": "ikrcREMkb99o"
      },
      "execution_count": null,
      "outputs": []
    },
    {
      "cell_type": "code",
      "source": [
        "tk.tokenize(data)"
      ],
      "metadata": {
        "colab": {
          "base_uri": "https://localhost:8080/"
        },
        "id": "Q4GhkZEhb_cH",
        "outputId": "376bc884-28a4-435c-dea7-d0712bcde995"
      },
      "execution_count": null,
      "outputs": [
        {
          "output_type": "execute_result",
          "data": {
            "text/plain": [
              "['Hello',\n",
              " 'friends',\n",
              " '!',\n",
              " ':)',\n",
              " 'how',\n",
              " 'are',\n",
              " 'you',\n",
              " '😁',\n",
              " '?',\n",
              " 'welcome',\n",
              " ':',\n",
              " '$',\n",
              " 'to',\n",
              " 'the',\n",
              " 'world',\n",
              " 'of',\n",
              " 'python',\n",
              " '<3',\n",
              " '.',\n",
              " ':)',\n",
              " '💀']"
            ]
          },
          "metadata": {},
          "execution_count": 72
        }
      ]
    },
    {
      "cell_type": "markdown",
      "source": [
        "#MWE Tokenizer"
      ],
      "metadata": {
        "id": "g0j2wS0md8QK"
      }
    },
    {
      "cell_type": "code",
      "source": [
        "from nltk.tokenize import MWETokenizer"
      ],
      "metadata": {
        "id": "BuxoErjCcEC3"
      },
      "execution_count": null,
      "outputs": []
    },
    {
      "cell_type": "code",
      "source": [
        "data='Van Rossom is in Pune today.We welcomed Van Rossom here'"
      ],
      "metadata": {
        "id": "zLusak3kemUq"
      },
      "execution_count": null,
      "outputs": []
    },
    {
      "cell_type": "code",
      "source": [
        "tk=MWETokenizer(separator=' ')"
      ],
      "metadata": {
        "id": "gx1OxK-AeBr3"
      },
      "execution_count": null,
      "outputs": []
    },
    {
      "cell_type": "code",
      "source": [
        "tk.add_mwe(('Van','Rossom'))          #taken as a single token"
      ],
      "metadata": {
        "id": "8LAp8tv9e3Qh"
      },
      "execution_count": null,
      "outputs": []
    },
    {
      "cell_type": "code",
      "source": [
        "tk.tokenize(word_tokenize(data))"
      ],
      "metadata": {
        "colab": {
          "base_uri": "https://localhost:8080/"
        },
        "id": "-SB4WNqIeHHX",
        "outputId": "b377d5ca-092c-485f-8d1f-fe6f3a345d84"
      },
      "execution_count": null,
      "outputs": [
        {
          "output_type": "execute_result",
          "data": {
            "text/plain": [
              "['Van Rossom',\n",
              " 'is',\n",
              " 'in',\n",
              " 'Pune',\n",
              " 'today.We',\n",
              " 'welcomed',\n",
              " 'Van Rossom',\n",
              " 'here']"
            ]
          },
          "metadata": {},
          "execution_count": 86
        }
      ]
    },
    {
      "cell_type": "markdown",
      "source": [
        "#Custom Tokenizer"
      ],
      "metadata": {
        "id": "u1fM78PwghpB"
      }
    },
    {
      "cell_type": "code",
      "source": [
        "import re\n",
        "\n",
        "def custom_tokenizer(text):\n",
        "  return re.split(r\"[.,;?!\\s]+\",text)\n",
        "\n",
        "text=\"this is some text with punctuation > let's tokenize it. Is it ok?\"\n",
        "tokens=custom_tokenizer(text)\n",
        "\n",
        "print(\"Tokens:\")\n",
        "\n",
        "for token in tokens:\n",
        "  print(token)\n"
      ],
      "metadata": {
        "colab": {
          "base_uri": "https://localhost:8080/"
        },
        "id": "BbcvURBieKbn",
        "outputId": "3b0192bf-5123-4f96-cdf3-3d54bb0fd97e"
      },
      "execution_count": null,
      "outputs": [
        {
          "output_type": "stream",
          "name": "stdout",
          "text": [
            "Tokens:\n",
            "this\n",
            "is\n",
            "some\n",
            "text\n",
            "with\n",
            "punctuation\n",
            ">\n",
            "let's\n",
            "tokenize\n",
            "it\n",
            "Is\n",
            "it\n",
            "ok\n",
            "\n"
          ]
        }
      ]
    },
    {
      "cell_type": "code",
      "source": [],
      "metadata": {
        "id": "EWvCWB2IhcCX"
      },
      "execution_count": null,
      "outputs": []
    }
  ]
}